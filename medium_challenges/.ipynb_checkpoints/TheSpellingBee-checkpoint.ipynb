{
 "cells": [
  {
   "cell_type": "markdown",
   "id": "d3f076ee-5c98-43fb-9f4b-495e7335152a",
   "metadata": {},
   "source": [
    "## The Spelling Bee"
   ]
  },
  {
   "cell_type": "code",
   "execution_count": null,
   "id": "dd66928d-debf-437c-b2c9-6146b559f7e1",
   "metadata": {},
   "outputs": [],
   "source": []
  },
  {
   "cell_type": "code",
   "execution_count": null,
   "id": "a192e848-903d-48cd-989f-7208bdad682e",
   "metadata": {},
   "outputs": [],
   "source": []
  }
 ],
 "metadata": {
  "kernelspec": {
   "display_name": "Python 3 (ipykernel)",
   "language": "python",
   "name": "python3"
  },
  "language_info": {
   "codemirror_mode": {
    "name": "ipython",
    "version": 3
   },
   "file_extension": ".py",
   "mimetype": "text/x-python",
   "name": "python",
   "nbconvert_exporter": "python",
   "pygments_lexer": "ipython3",
   "version": "3.9.19"
  }
 },
 "nbformat": 4,
 "nbformat_minor": 5
}
