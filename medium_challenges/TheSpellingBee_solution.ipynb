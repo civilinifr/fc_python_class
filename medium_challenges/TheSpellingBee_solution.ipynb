{
 "cells": [
  {
   "cell_type": "markdown",
   "id": "d3f076ee-5c98-43fb-9f4b-495e7335152a",
   "metadata": {},
   "source": [
    "# The Spelling Bee - *Solution*"
   ]
  },
  {
   "cell_type": "markdown",
   "id": "55dc946c-ffe7-45c1-a7eb-b32accd5857b",
   "metadata": {},
   "source": [
    "<img src=\"https://raw.githubusercontent.com/civilinifr/fc_python_class/master/medium_challenges/images/calvin_spelling_bee.jpg\" alt=\"Drawing\" style=\"width: 350px;\">\n",
    "* Image created using Microsoft Designer"
   ]
  },
  {
   "cell_type": "markdown",
   "id": "91e36a0c-5715-4a74-8f96-5530f75d767d",
   "metadata": {},
   "source": [
    "## Problem Description"
   ]
  },
  {
   "cell_type": "markdown",
   "id": "3450b4fe-9955-4010-ba8b-060033177589",
   "metadata": {},
   "source": [
    "Calvin is back home after a lengthy space voyage relaxing in his library. After finishing reading the New York Times, he turns to the games section and plays the \"Spelling Bee\" game:\n",
    "\n",
    "https://www.nytimes.com/puzzles/spelling-bee\n",
    "\n",
    "The objective of the game is to come up with as many words as possible which use some combination of the 7 displayed letters. One of the letters is fixed, meaning it has to be used at some point in the word. Only words of four letters or more are considered. \n",
    "\n",
    "Problem is, Calvin is really bad at this game, and quickly gives up. Can you design a code that is able to solve the Spelling Bee puzzle? \n",
    "\n",
    "<img src=\"https://raw.githubusercontent.com/civilinifr/fc_python_class/master/medium_challenges/images/bee_1.png\" alt=\"Drawing\" style=\"width: 400px;\">\n",
    "\n"
   ]
  },
  {
   "cell_type": "markdown",
   "id": "1bed5ff7-b8f0-4157-84ef-3ab8511572c3",
   "metadata": {},
   "source": [
    "## Solution"
   ]
  },
  {
   "cell_type": "markdown",
   "id": "72b7b312-9581-454c-937a-10202a6c7338",
   "metadata": {},
   "source": [
    "We will be using the Natural Language Toolkit (NLTK) package for this task. The premise is that we're going to load a dictionary and then filter based on the letters that will not be used."
   ]
  },
  {
   "cell_type": "code",
   "execution_count": 3,
   "id": "cb52f9d3-4f38-494d-9c7d-bc8e4ac92b54",
   "metadata": {},
   "outputs": [],
   "source": [
    "# Import the packages\n",
    "from nltk.corpus import words\n",
    "import pandas as pd\n",
    "import numpy as np\n",
    "import re"
   ]
  },
  {
   "cell_type": "code",
   "execution_count": 4,
   "id": "8ad68b65-3940-4ea8-9e4c-40dd7bb4398f",
   "metadata": {},
   "outputs": [
    {
     "name": "stderr",
     "output_type": "stream",
     "text": [
      "[nltk_data] Downloading package words to\n",
      "[nltk_data]     C:\\Users\\fcivilin\\AppData\\Roaming\\nltk_data...\n",
      "[nltk_data]   Package words is already up-to-date!\n"
     ]
    },
    {
     "data": {
      "text/plain": [
       "True"
      ]
     },
     "execution_count": 4,
     "metadata": {},
     "output_type": "execute_result"
    }
   ],
   "source": [
    "# Import the dictionary (only will need to run this once)\n",
    "import nltk\n",
    "nltk.download('words')"
   ]
  },
  {
   "cell_type": "code",
   "execution_count": 6,
   "id": "2d370867-75d4-482e-9172-b8d568174fbf",
   "metadata": {},
   "outputs": [
    {
     "name": "stdout",
     "output_type": "stream",
     "text": [
      "          0\n",
      "0      aaru\n",
      "1    alraun\n",
      "2    alruna\n",
      "3     altun\n",
      "4     alula\n",
      "..      ...\n",
      "175   yulan\n",
      "176    yurt\n",
      "177   yurta\n",
      "178  yuruna\n",
      "179    yutu\n",
      "\n",
      "[180 rows x 1 columns]\n"
     ]
    }
   ],
   "source": [
    "# Example function using a fixed letter \"u\" and letters \"r\", \"n\", \"y\", \"l\", \"a\", \"t\". \n",
    "def main():\n",
    "    \"\"\"\n",
    "    Main function to return the wordlist \n",
    "    :return:\n",
    "    \"\"\"\n",
    "    # Fixed letter\n",
    "    fixed_letter = 'u'\n",
    "\n",
    "    # The 6 possible letters\n",
    "    possible_letters = ['r', 'n', 'y', 'l', 'a', 't']\n",
    "\n",
    "    # word_list = words.words()\n",
    "    wordlist = words.words()\n",
    "    wordlist = [x.lower() for x in wordlist]\n",
    "\n",
    "    # df = pd.DataFrame(english_words_lower_set)\n",
    "    df = pd.DataFrame(wordlist)\n",
    "\n",
    "    # Get the length of words\n",
    "    mylen = np.vectorize(len)\n",
    "    words_len = mylen(df[0].values)\n",
    "\n",
    "    # Remove from the dataframe words with length less than 4\n",
    "    short_ind = np.where(words_len < 4)[0]\n",
    "    df.drop(df.index[short_ind], inplace=True)\n",
    "    df = df.reset_index(drop=True)\n",
    "\n",
    "    # Find the letters that will not be used in the matching\n",
    "    alphabet = ['a', 'b', 'c', 'd', 'e', 'f', 'g', 'h', 'i', 'j', 'k', 'l', 'm', 'n', 'o', 'p',\n",
    "                'q', 'r', 's', 't', 'u', 'v', 'w', 'x', 'y', 'z']\n",
    "    alphabet.remove(fixed_letter)\n",
    "    for val in possible_letters:\n",
    "        alphabet.remove(val)\n",
    "    unused_letters = alphabet\n",
    "\n",
    "    # Remove words from the dictionary which include the unused letters\n",
    "    unused_words_ind = []\n",
    "    for wordind in np.arange(len(df[0].values)):\n",
    "        word = df[0].values[wordind]\n",
    "        if any([characters in unused_letters for characters in word]):\n",
    "            unused_words_ind.append(wordind)\n",
    "\n",
    "    df.drop(df.index[unused_words_ind], inplace=True)\n",
    "    df = df.reset_index(drop=True)\n",
    "\n",
    "    # Lastly, remove all the words that do not contain the fixed letter\n",
    "    dropind = []\n",
    "    for wordind in np.arange(len(df[0].values)):\n",
    "        word = df[0].values[wordind]\n",
    "        if not fixed_letter in word:\n",
    "            dropind.append(wordind)\n",
    "\n",
    "    df.drop(df.index[dropind], inplace=True)\n",
    "    df = df.reset_index(drop=True)\n",
    "\n",
    "    df = df.sort_values([0])\n",
    "    df = df.reset_index(drop=True)\n",
    "\n",
    "    # Print out the wordlist\n",
    "    print(df)\n",
    "\n",
    "    # We can output the list to a path with a simple pandas function\n",
    "    # outfolder = '/output/folder/path/'\n",
    "    # df.to_csv(f'{outfolder}wordlist.txt', index=False, header=None)\n",
    "\n",
    "    return\n",
    "\n",
    "\n",
    "# Main\n",
    "main()"
   ]
  },
  {
   "cell_type": "code",
   "execution_count": null,
   "id": "e95d1885-3a67-4390-96aa-ba0029cdc398",
   "metadata": {},
   "outputs": [],
   "source": []
  }
 ],
 "metadata": {
  "kernelspec": {
   "display_name": "Python 3 (ipykernel)",
   "language": "python",
   "name": "python3"
  },
  "language_info": {
   "codemirror_mode": {
    "name": "ipython",
    "version": 3
   },
   "file_extension": ".py",
   "mimetype": "text/x-python",
   "name": "python",
   "nbconvert_exporter": "python",
   "pygments_lexer": "ipython3",
   "version": "3.9.19"
  }
 },
 "nbformat": 4,
 "nbformat_minor": 5
}
