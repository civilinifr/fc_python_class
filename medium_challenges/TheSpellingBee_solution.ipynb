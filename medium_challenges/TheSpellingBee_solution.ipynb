{
 "cells": [
  {
   "cell_type": "markdown",
   "id": "d3f076ee-5c98-43fb-9f4b-495e7335152a",
   "metadata": {},
   "source": [
    "# The Spelling Bee"
   ]
  },
  {
   "cell_type": "markdown",
   "id": "55dc946c-ffe7-45c1-a7eb-b32accd5857b",
   "metadata": {},
   "source": [
    "<img src=\"https://raw.githubusercontent.com/civilinifr/fc_python_class/master/medium_challenges/images/calvin_spelling_bee.jpg\" alt=\"Drawing\" style=\"width: 350px;\">\n",
    "* Image created using Microsoft Designer"
   ]
  },
  {
   "cell_type": "markdown",
   "id": "91e36a0c-5715-4a74-8f96-5530f75d767d",
   "metadata": {},
   "source": [
    "## Problem Description"
   ]
  },
  {
   "cell_type": "markdown",
   "id": "3450b4fe-9955-4010-ba8b-060033177589",
   "metadata": {},
   "source": [
    "Calvin is back home after a lengthy space voyage relaxing in his library. After finishing reading the New York Times, he turns to the games section and plays the \"Spelling Bee\" game:\n",
    "\n",
    "https://www.nytimes.com/puzzles/spelling-bee\n",
    "\n",
    "The objective of the game is to come up with as many words as possible which use some combination of the 7 displayed letters. One of the letters is fixed, meaning it has to be used at some point in the word.\n",
    "\n",
    "Problem is, Calvin is really bad at this game, and quickly gives up. Can you design a code that is able to solve the Spelling Bee puzzle? \n",
    "\n",
    "<img src=\"https://raw.githubusercontent.com/civilinifr/fc_python_class/master/medium_challenges/images/bee_1.png\" alt=\"Drawing\" style=\"width: 400px;\">\n",
    "\n"
   ]
  }
 ],
 "metadata": {
  "kernelspec": {
   "display_name": "Python 3 (ipykernel)",
   "language": "python",
   "name": "python3"
  },
  "language_info": {
   "codemirror_mode": {
    "name": "ipython",
    "version": 3
   },
   "file_extension": ".py",
   "mimetype": "text/x-python",
   "name": "python",
   "nbconvert_exporter": "python",
   "pygments_lexer": "ipython3",
   "version": "3.9.19"
  }
 },
 "nbformat": 4,
 "nbformat_minor": 5
}
