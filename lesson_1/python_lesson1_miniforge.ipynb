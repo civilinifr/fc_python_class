{
 "cells": [
  {
   "cell_type": "markdown",
   "metadata": {},
   "source": [
    "# Python class lesson 1 - Getting started"
   ]
  },
  {
   "cell_type": "markdown",
   "metadata": {},
   "source": [
    "# P1 - Computer components\n",
    "\n",
    "- **Motherboard**: Main hardware component which all other components attach to. Divvies out input and output for all components. \n",
    "\n",
    "\n",
    "- **Central Processing Unit (CPU)**: The brain of the computer. Takes input data, applies an operation, and produces an output. \n",
    "\n",
    "\n",
    "- **Graphical Processing Unit (GPU)**: A hardware component specializing in the operations required to display an image. Not necessary for typical use, but important for video editing and computer games. \n",
    "\n",
    "\n",
    "- **Hard Disk Drive (HDD) /Solid State Drive (SSD)**: Where data is *permamentely* saved on the computer. Can either be a hard drive, where data is saved by a magnetic strip, or solid state, where information is saved on semiconductor cells. Solid state hard drives are much faster, take less power, and are more resistant do damage. Brain analogy - Long term memory storage.\n",
    "\n",
    "\n",
    "- **Random Access Memory (RAM)**: Where data is *temporarily* saved on the computer. This is wiped clean every time you restart the computer. Extremely important hardware, because it takes the output from certain components to input as other components. If your computer is \"slow\", it may mean that your ram is insufficient for all the operations that you're trying to do. Some companies (*cough Apple cough cough*) will update their programs to use more and more RAM even though they don't need to, trying to force the consumer to buy a new computer out of frustration. Brain analogy - Short term memory. \n",
    "\n",
    "\n",
    "- **Power Supply Unit (PSU)**: Hardware piece that powers all components. \n",
    "\n",
    "\n",
    "- **Monitor**: Takes output signal from RAM (computed by the CPU or GPU) to create an image. For LCD (Liquid Crystal Displays), each pixel in the monitor changes color depending on the voltage that is applied.   "
   ]
  },
  {
   "cell_type": "markdown",
   "metadata": {},
   "source": [
    "# P2 - Programming\n",
    "\n",
    "## Storage\n",
    "\n",
    "All information in all machine components is represented as **bits**, which are binary storages of information. Each bit can be thought of as a switch with two possible positions: on (current passing through) or off (no current passing through). This binary logic of 1s and 0s is what all computer operations are running through. \n",
    "\n",
    "\n",
    "\n",
    "However, there is only so much we can do with a single bit (basically a true or false statement). Instead, most information is placed as **bytes**, which is 8 bits grouped together. Each byte can give us $2^8$ possibile configurations, or 256 numbers. In computer science we start with an index of 0, so a byte gives us numbers from 0 to 255. \n",
    "\n",
    "\n",
    "\n",
    "So what does this mean in practice? Let's take text as an example. *ASCII* is an encoding typically used for the English language (i.e., displays text). In ASCII, the letter **\"A\"** is represented by a combination of **\"0100 0001\"**, or a byte where the 1st and 7th bites (read from right to left) are activated. Another example could be the number **7**, which is represented by **\"0011 0111\"**. \n",
    "\n",
    "\n",
    "Note: ASCII was initially developed for 7-bit systems, but was soon expanded to 8-bit. \n",
    "\n",
    "\n",
    "\n",
    "## High-level vs low-level\n",
    "\n",
    "\n",
    "A computer program reads input (from your keyboard or stored file) into RAM, uses the CPU to conduct an operation, and outputs the result to RAM. Every input and output is represented as bits. However, human brains aren't really good at operating in binary in chunks of 8. Fortunately, we don't have to, because smart people wrote programs to interpret bytes (and groups of bytes) into readable formats. For example, when I want to write the letter **A** in a program, I can just hit the letter on my keyboard and it is interpreted in binary in the RAM and CPU. \n",
    "\n",
    "\n",
    "When someone refers to a \"low-level\" instruction, it means that it is close to binary or machine language (i.e. bits and bytes). The aforementioned binary to ASCII code would be an example of a very low-level operation. A high level operation, instead, would be something like saving a text file using microsoft word. In this example, all machine language is hidden from the user. \n",
    "\n",
    "\n",
    "Programming languages can vary on the low-level to high-level spectrum. Computer scientists lean towards low-level languages like C, which allow the user to create very-fast and extremely customizable programs, at the expense of code complexity. Scientists, on the other hand, lean towards high-level languages such as Matlab, which are more limited and comparitively slower, but are easier to interpret, highly repeatable, and are still very accurate. \n",
    "\n",
    "\n",
    "Python is sort of the best of both worlds. It is a high-level language which can be customized for lower-level operations if need be. \n"
   ]
  },
  {
   "cell_type": "markdown",
   "metadata": {},
   "source": [
    "# P3 - Python installation\n",
    "\n",
    "\n",
    "## Packages and environments\n",
    "\n",
    "Operations in Python operate on groups of code called **packages** which are separate from the main Python installation. For example, a package called **NumPy** is used to store data as vectors or matrices. Another, called **Matplotlib**, is used to make plots. A typical Python code will use lots of these packages. However, as these Python packages are independent from one another, they won't necessarily always play well together. One package will update and sometimes break another. \n",
    "\n",
    "A workaround for this problem is to create something called an **environment**. An environment is an independent grouping of packages that user will create for a particular project. For example, when I start a new project I will create a new environment for that project and use install the needed packages. This means that I'll still be able to go back and run a code from 5 years ago, which used a different combination of packages. An analogy is to think of an environment as a zoo, and the various packages as animals. If you combined together lions and zebras, for example, the zoo may not be super successful....\n",
    "\n",
    "We will be using a software package called **Miniforge**, which will be a platform that will manage Python, environments, and packages for us. It can be downloaded from:\n",
    "https://conda-forge.org/miniforge/\n",
    "\n",
    "Make sure to download the version which works for your operating system (i.e., windows, mac, or linux) and install using the default settings. \n",
    "\n",
    "<img src=\"./images/mf_nav1.png\" alt=\"Drawing\">\n"
   ]
  },
  {
   "cell_type": "markdown",
   "metadata": {},
   "source": [
    "Unlike other Python management utilities like Anaconda, Miniforge does not have a nice graphical interface for package management. Don't worry, I'll walk you through it! You should now have a new program on your computer called \"Miniforge Prompt\". Go ahead and click on it. A terminal-like screen like this should pop up:\n",
    "\n",
    "\n",
    "<img src=\"./images/mf_nav2.png\" alt=\"Drawing\">\n",
    "\n",
    "\n",
    "This may seem a bit intimidating, but it's not that scary I promise! To the left side of the prompt and your username, you should see the label *(base)*\". \n",
    "\n",
    "\n",
    "*(base)* is the default Python environment. So this is the main \"zoo\". All of the applications are programs which run on the Python packages (\"animals\") that live in the Python environment. To get a list of all the packages currently installed on the *base* environment, you can type in `mamba list`. \n",
    "\n",
    "<img src=\"./images/mamba_list.png\" alt=\"Drawing\">\n",
    "\n",
    "\n",
    "We will now create our own environment. This can be done by typing in `mamba create -n python_class python=3.9`. This will create a Python 3.9 environment called `python_class`. If all goes according to plan, Miniforge will want to install a lot of default packages, just go ahead and accept. Once you've done this, you'll still be in the default environment, with *(base)* on the left hand side of the prompt. To activate the new environment, type in the command `mamba activate python_class`. \n",
    "\n",
    "\n",
    "<img src=\"./images/mf_nav3.png\" alt=\"Drawing\">\n",
    "\n",
    "\n",
    "An important note. To make your life a lot easier, never use spaces when defining something in Python or programming (i.e. \"python_class\" vs \"python class\"). The reason is that in programming, spaces mean the end of a command or input. You can use spaces in programming, but to define it, you have to write the character sequence \"\\ \", which gets you in trouble since directories in windows are defined as \"\\ \". Just don't use spaces and save yourself the headache. \n",
    "\n",
    "Once the new environment is created, we will use this time to get some additional packages. Within the *python_class* environment. The way we are going to do it is via Pip (Package Index for Python). The command to install is simple, just `pip install <packagename>`. You can also use the same commands for multiple packages in a row, such as  `pip install <packagename1> <packagename2>`. Within your *python_class* environment, install the package \"plotly\" via `pip install plotly`. It might also download other supporting packages. \n",
    "\n",
    "If you create additioanl virtual environments, *plotly* will not be installed in them by default. This is how we manage multiple environments sucessfully! Do the same steps for packages called \"matplotlib\", \"skimage\", \"numpy\", and \"nilearn\". \n",
    "\n",
    "Note: You may not be able to install skimage directly, and may instead need to install scikits-image. If that's the case, just replace skimage with scikits-image. \n",
    "\n",
    "We have one more package to install, which will be the graphical interface we will program in. Within your terminal, type in `pip install notebook`. Once it's done, start it up via the command `jupyter notebook`. You will be greeted by the following screen:\n",
    "\n",
    "<img src=\"./images/jn_1.PNG\" alt=\"Drawing\">\n",
    "\n",
    "Navigate to a directory where you'd like to keep all your code. To create a new folder, hit the \"new\" tab and select \"folder\". An untitled folder will be created in your current directory. Select it (by checkboxing it) and then click rename (I'd name it something like python_class, remember no spaces!). Then create another directory in there for lesson_1. Click \"new\" one final time and select \"Python 3\" notebook. \n",
    "\n",
    "Contratulations! You're all ready to code! \n",
    "\n",
    "<img src=\"./images/jn_2.PNG\" alt=\"Drawing\">\n"
   ]
  },
  {
   "cell_type": "markdown",
   "metadata": {},
   "source": [
    "# Next lesson: Navigation in Jupyter notebooks\n",
    "\n",
    "Today we just played around with the various components of programming. Next week we will cover scripting, which is the much more straightforward version of programming. \n",
    "\n",
    "- Movement, selection inside cells, creating new cells. \n",
    "- Variables\n",
    "- Variable types: strings, integers, floats, etc. \n",
    "- Storing things into memory. "
   ]
  },
  {
   "cell_type": "markdown",
   "metadata": {},
   "source": [
    "# Exercises\n",
    "\n",
    "Short one for this lesson. Simply work read through and run the code included in the folder. "
   ]
  }
 ],
 "metadata": {
  "kernelspec": {
   "display_name": "Python 3 (ipykernel)",
   "language": "python",
   "name": "python3"
  },
  "language_info": {
   "codemirror_mode": {
    "name": "ipython",
    "version": 3
   },
   "file_extension": ".py",
   "mimetype": "text/x-python",
   "name": "python",
   "nbconvert_exporter": "python",
   "pygments_lexer": "ipython3",
   "version": "3.9.19"
  }
 },
 "nbformat": 4,
 "nbformat_minor": 4
}
