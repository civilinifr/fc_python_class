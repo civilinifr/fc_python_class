{
 "cells": [
  {
   "cell_type": "markdown",
   "metadata": {},
   "source": [
    "# Homework 1 - Plotting data"
   ]
  },
  {
   "cell_type": "markdown",
   "metadata": {},
   "source": [
    "**Q1: Draw graphs for fuctions $3x+2$,   $-5x-20$,   $2x^2+x-2$, and   $3x^2-5$ evaluated for every integer x going from -10 to 10.**\n",
    "\n",
    "What is needed:\n",
    "- The entire final code should be in a single jupyter cell (including package import)\n",
    "- Code should be commented as needed to give the user an idea of what you're doing\n",
    "- Each function should be plotted with a different color\n",
    "- The axes of the plot should be appropriately labeled\n",
    "- There needs to be a title\n",
    "- There needs to be a legend that describes which color corresponds to which function"
   ]
  },
  {
   "cell_type": "markdown",
   "metadata": {},
   "source": [
    "**Q2: Plot the same functions described in Q1, add a fifth function $-5x^2+3$, but instead use x going from -100 to 100 with a value every 0.1 instead of every integer.** \n",
    "\n",
    "*Hint*: In other words, x should be a vector going from -100, -99.9, -99.8.... 99.8, 99.9, 100. There is a numpy function that can easily create such vectors. Don't forget to add the new function to the legend!"
   ]
  },
  {
   "cell_type": "code",
   "execution_count": null,
   "metadata": {},
   "outputs": [],
   "source": []
  }
 ],
 "metadata": {
  "kernelspec": {
   "display_name": "Python 3 (ipykernel)",
   "language": "python",
   "name": "python3"
  },
  "language_info": {
   "codemirror_mode": {
    "name": "ipython",
    "version": 3
   },
   "file_extension": ".py",
   "mimetype": "text/x-python",
   "name": "python",
   "nbconvert_exporter": "python",
   "pygments_lexer": "ipython3",
   "version": "3.9.16"
  }
 },
 "nbformat": 4,
 "nbformat_minor": 4
}
