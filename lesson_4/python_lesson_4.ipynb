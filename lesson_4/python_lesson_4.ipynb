{
 "cells": [
  {
   "cell_type": "markdown",
   "metadata": {},
   "source": [
    "# Lesson 4 - Boolean operators and the \"if\" statement"
   ]
  },
  {
   "cell_type": "markdown",
   "metadata": {},
   "source": [
    "## Boolean Operators"
   ]
  },
  {
   "cell_type": "markdown",
   "metadata": {},
   "source": [
    "There are three main boolean operators in Python: `and`, `or`, and `not`. We will do examples of each one below. "
   ]
  },
  {
   "cell_type": "code",
   "execution_count": 30,
   "metadata": {},
   "outputs": [
    {
     "name": "stdout",
     "output_type": "stream",
     "text": [
      "True\n",
      "False\n",
      "False\n"
     ]
    }
   ],
   "source": [
    "# AND. All statements need to be true for the boolean to return as True. \n",
    "boolean1 = 3 < 5 and 3 > 2 # Both statements are true\n",
    "boolean2 = 3 < 5 and 3 < 2 # Only one statement is true\n",
    "boolean3 = 3 > 5 and 3 < 2 # Both statements are false\n",
    "\n",
    "print(boolean1)\n",
    "print(boolean2)\n",
    "print(boolean3)"
   ]
  },
  {
   "cell_type": "code",
   "execution_count": 31,
   "metadata": {},
   "outputs": [
    {
     "name": "stdout",
     "output_type": "stream",
     "text": [
      "True\n",
      "True\n",
      "False\n"
     ]
    }
   ],
   "source": [
    "# OR. One statement needs to be true for the boolean to return as True. \n",
    "boolean1 = 3 < 5 or 3 > 2 # Both statements are true\n",
    "boolean2 = 3 < 5 or 3 < 2 # Only one statement is true\n",
    "boolean3 = 3 > 5 or 3 < 2 # Both statements are false\n",
    "\n",
    "print(boolean1)\n",
    "print(boolean2)\n",
    "print(boolean3)"
   ]
  },
  {
   "cell_type": "code",
   "execution_count": 32,
   "metadata": {},
   "outputs": [
    {
     "name": "stdout",
     "output_type": "stream",
     "text": [
      "True\n",
      "True\n",
      "True\n"
     ]
    }
   ],
   "source": [
    "# NOT. It is the opposite of whatever expression is evaluated\n",
    "boolean1 = not 3 < 5 or 3 > 2 # Only second statement is true\n",
    "boolean2 = 3 < 5 or not 3 < 2 # Only second statement is true\n",
    "boolean3 = not 3 > 5 or not 3 < 2 # Only second statement is true\n",
    "\n",
    "print(boolean1)\n",
    "print(boolean2)\n",
    "print(boolean3)"
   ]
  },
  {
   "cell_type": "code",
   "execution_count": 33,
   "metadata": {},
   "outputs": [
    {
     "name": "stdout",
     "output_type": "stream",
     "text": [
      "False\n",
      "False\n",
      "True\n"
     ]
    }
   ],
   "source": [
    "# You can also use parentheses\n",
    "boolean1 = not(3 < 5 or 3 > 2) \n",
    "boolean2 = not(3 < 5 or 3 < 2) \n",
    "boolean3 = not(3 > 5 or 3 < 2) \n",
    "\n",
    "print(boolean1)\n",
    "print(boolean2)\n",
    "print(boolean3)"
   ]
  },
  {
   "cell_type": "markdown",
   "metadata": {},
   "source": [
    "For your homework, remember that `not` is evaluated first, `and` is evaluated next, and `or` is evaluated last.\n"
   ]
  },
  {
   "cell_type": "markdown",
   "metadata": {},
   "source": [
    "## If statement\n",
    "\n",
    "The `if` statement is an extremely common conditional. The basic idea is that it asks a question. Does this expression match this output? If so, do this operation. If not, do something else. In Python, the \"if not\" is written as \"else\". "
   ]
  },
  {
   "cell_type": "code",
   "execution_count": 34,
   "metadata": {},
   "outputs": [
    {
     "name": "stdout",
     "output_type": "stream",
     "text": [
      "This person is an adult\n"
     ]
    }
   ],
   "source": [
    "# Example of an if statement with syntax. \n",
    "age = 20\n",
    "if age < 18:\n",
    "    print('This person is not an adult')\n",
    "else:\n",
    "    print('This person is an adult')\n",
    "    "
   ]
  },
  {
   "cell_type": "markdown",
   "metadata": {},
   "source": [
    "Notice the `:` and how there is a tab (or rather, 4 spaces) of indentation after. This syntax is used for if statements as well as loops (which we will talk about later). "
   ]
  },
  {
   "cell_type": "code",
   "execution_count": 35,
   "metadata": {},
   "outputs": [
    {
     "name": "stdout",
     "output_type": "stream",
     "text": [
      "This person is a teenager\n"
     ]
    }
   ],
   "source": [
    "# We can also use the boolean operators described in the first part of the document\n",
    "age = 15\n",
    "if age >= 13 and age < 18:\n",
    "    print('This person is a teenager')"
   ]
  },
  {
   "cell_type": "code",
   "execution_count": 36,
   "metadata": {},
   "outputs": [
    {
     "name": "stdout",
     "output_type": "stream",
     "text": [
      "This person is a teenager\n"
     ]
    }
   ],
   "source": [
    "# The \"else if\" statement (or \"elif\") can be used to add an additional conditional\n",
    "age = 15\n",
    "if age <= 12:\n",
    "    print('This person is a kid')\n",
    "elif age > 13 and age < 20:\n",
    "    print('This person is a teenager')\n",
    "else:\n",
    "    print('This person is an adult')"
   ]
  },
  {
   "cell_type": "code",
   "execution_count": 37,
   "metadata": {},
   "outputs": [
    {
     "name": "stdout",
     "output_type": "stream",
     "text": [
      "This person is an adult\n"
     ]
    }
   ],
   "source": [
    "# Note that python does not care about empty lines in between statements\n",
    "# The tabs need to match up though. \n",
    "age = 20\n",
    "\n",
    "if age <= 12:\n",
    "    \n",
    "    print('This person is a kid')\n",
    "\n",
    "elif age > 13 and age < 20:\n",
    "    \n",
    "    print('This person is a teenager')\n",
    "\n",
    "else:\n",
    "    \n",
    "    print('This person is an adult')"
   ]
  },
  {
   "cell_type": "markdown",
   "metadata": {},
   "source": [
    "## Introduction to functions\n",
    "\n",
    "Functions are created by the `def` syntax. They also have a similar tab structure to `if` statements with the `:` and need to be defined (that's where `def` comes from) prior to being called. \n",
    "\n",
    "We will be using functions all of the time, so it's a good idea to get comfortable with the syntax. "
   ]
  },
  {
   "cell_type": "code",
   "execution_count": 38,
   "metadata": {},
   "outputs": [
    {
     "name": "stdout",
     "output_type": "stream",
     "text": [
      "This person is an adult\n",
      "This person is a kid\n",
      "This person is a teenager\n"
     ]
    }
   ],
   "source": [
    "# Function needs to be defined prior to calling it. \n",
    "def check_age(input_age):\n",
    "    \n",
    "    if input_age <= 12:\n",
    "        print('This person is a kid')\n",
    "    elif input_age > 13 and input_age < 20:\n",
    "        print('This person is a teenager')\n",
    "    else:\n",
    "        print('This person is an adult')\n",
    "        \n",
    "\n",
    "check_age(33)\n",
    "check_age(12)\n",
    "check_age(15)"
   ]
  },
  {
   "cell_type": "markdown",
   "metadata": {},
   "source": [
    "**Homework for this section is Codecademy lesson 3.**"
   ]
  }
 ],
 "metadata": {
  "kernelspec": {
   "display_name": "Python 3",
   "language": "python",
   "name": "python3"
  },
  "language_info": {
   "codemirror_mode": {
    "name": "ipython",
    "version": 3
   },
   "file_extension": ".py",
   "mimetype": "text/x-python",
   "name": "python",
   "nbconvert_exporter": "python",
   "pygments_lexer": "ipython3",
   "version": "3.6.4"
  }
 },
 "nbformat": 4,
 "nbformat_minor": 2
}
