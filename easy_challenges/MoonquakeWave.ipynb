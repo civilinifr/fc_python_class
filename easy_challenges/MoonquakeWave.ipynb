{
 "cells": [
  {
   "cell_type": "markdown",
   "id": "d3f076ee-5c98-43fb-9f4b-495e7335152a",
   "metadata": {},
   "source": [
    "# Moonquake Analysis"
   ]
  },
  {
   "cell_type": "markdown",
   "id": "55dc946c-ffe7-45c1-a7eb-b32accd5857b",
   "metadata": {},
   "source": [
    "<img src=\"https://raw.githubusercontent.com/civilinifr/fc_python_class/master/easy_challenges/images/calvin_seismic_waveform.jpg\" alt=\"Drawing\" style=\"width: 350px;\">\n",
    "* Image created using Microsoft Designer"
   ]
  },
  {
   "cell_type": "markdown",
   "id": "91e36a0c-5715-4a74-8f96-5530f75d767d",
   "metadata": {},
   "source": [
    "## Problem Description"
   ]
  },
  {
   "cell_type": "markdown",
   "id": "3450b4fe-9955-4010-ba8b-060033177589",
   "metadata": {},
   "source": [
    "Calvin is planning a new seismic investigation on the surface of the moon to look for ice, and wants to design a new processing workflow to best capture information of seismic waveforms. To test it, he goes back to data from the Apollo missions. \n",
    "\n",
    "Here is a link to a seismic event from Apollo 12 that you can download on your computer:\n",
    "https://drive.google.com/file/d/1IvIGglmYAtq9bfiMzmP8i9UUGcyYsPzg/view?usp=sharing\n",
    "\n",
    "The objectives are to extract the following information from the seismic waveform:\n",
    "- The maximum amplitude of the waveform (units are filtered machine counts per second)\n",
    "  \n",
    "\n"
   ]
  },
  {
   "cell_type": "code",
   "execution_count": null,
   "id": "5c04e5d1-9d34-455d-b59b-3f55e0472978",
   "metadata": {},
   "outputs": [],
   "source": []
  }
 ],
 "metadata": {
  "kernelspec": {
   "display_name": "Python 3 (ipykernel)",
   "language": "python",
   "name": "python3"
  },
  "language_info": {
   "codemirror_mode": {
    "name": "ipython",
    "version": 3
   },
   "file_extension": ".py",
   "mimetype": "text/x-python",
   "name": "python",
   "nbconvert_exporter": "python",
   "pygments_lexer": "ipython3",
   "version": "3.9.19"
  }
 },
 "nbformat": 4,
 "nbformat_minor": 5
}
