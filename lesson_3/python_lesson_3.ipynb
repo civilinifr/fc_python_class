{
 "cells": [
  {
   "cell_type": "markdown",
   "metadata": {},
   "source": [
    "# Lesson 3 : Strings, methods, and introduction to vectors"
   ]
  },
  {
   "cell_type": "markdown",
   "metadata": {},
   "source": [
    "## Part 1- Strings continued"
   ]
  },
  {
   "cell_type": "code",
   "execution_count": 68,
   "metadata": {},
   "outputs": [
    {
     "ename": "SyntaxError",
     "evalue": "invalid syntax (<ipython-input-68-56c4149683c0>, line 2)",
     "output_type": "error",
     "traceback": [
      "\u001b[1;36m  File \u001b[1;32m\"<ipython-input-68-56c4149683c0>\"\u001b[1;36m, line \u001b[1;32m2\u001b[0m\n\u001b[1;33m    str1 = 'How's everyone doing?'\u001b[0m\n\u001b[1;37m                ^\u001b[0m\n\u001b[1;31mSyntaxError\u001b[0m\u001b[1;31m:\u001b[0m invalid syntax\n"
     ]
    }
   ],
   "source": [
    "# There are some possible problems with special characters in strings\n",
    "str1 = 'How's everyone doing?'\n",
    "print(str1)"
   ]
  },
  {
   "cell_type": "code",
   "execution_count": 69,
   "metadata": {},
   "outputs": [
    {
     "name": "stdout",
     "output_type": "stream",
     "text": [
      "How's everyone doing?\n",
      "How's everyone doing?\n"
     ]
    }
   ],
   "source": [
    "# You can use either the opposite string signifier to use the forward slash\n",
    "str2 = \"How's everyone doing?\"\n",
    "str3 = 'How\\'s everyone doing?'\n",
    "print(str2)\n",
    "print(str3)"
   ]
  },
  {
   "cell_type": "code",
   "execution_count": 70,
   "metadata": {},
   "outputs": [
    {
     "name": "stdout",
     "output_type": "stream",
     "text": [
      "My favorite desser is pie\n"
     ]
    }
   ],
   "source": [
    "# You used to be able to input variables into strings in Python 2 using the % syntax\n",
    "dessert = 'pie'\n",
    "str4 = 'My favorite desser is %s' % (dessert)\n",
    "print(str4)"
   ]
  },
  {
   "cell_type": "code",
   "execution_count": 71,
   "metadata": {},
   "outputs": [
    {
     "name": "stdout",
     "output_type": "stream",
     "text": [
      "My favorite float is 3.14\n",
      "My favorite integer is 7\n"
     ]
    }
   ],
   "source": [
    "# This would also work for all sorts of input variables\n",
    "floatnum = 3.14\n",
    "intnum = 7\n",
    "str5 = 'My favorite float is %s' % (floatnum)\n",
    "str6 = 'My favorite integer is %s' % (intnum)\n",
    "print(str5)\n",
    "print(str6)"
   ]
  },
  {
   "cell_type": "code",
   "execution_count": 72,
   "metadata": {},
   "outputs": [
    {
     "name": "stdout",
     "output_type": "stream",
     "text": [
      "My favorite float is 3.140000\n",
      "My favorite float is 3.141593\n"
     ]
    }
   ],
   "source": [
    "# The letter after the % sign explains how the string should be formatted depending on the input. \n",
    "# %s means string. However, you can use %f for float if it's a number with more significant figures\n",
    "floatnum1 = 3.14\n",
    "floatnum2 = 3.14159265358979\n",
    "str7 = 'My favorite float is %f' % (floatnum1)\n",
    "str8 = 'My favorite float is %f' % (floatnum2)\n",
    "print(str7)\n",
    "print(str8)"
   ]
  },
  {
   "cell_type": "code",
   "execution_count": 73,
   "metadata": {},
   "outputs": [
    {
     "name": "stdout",
     "output_type": "stream",
     "text": [
      "Charmander (pokedex number 4), used flamethrower for 9999.9999 damage!!!\n"
     ]
    }
   ],
   "source": [
    "# You could also use this to have several variables\n",
    "pokemon_name = 'Charmander'\n",
    "entry_num = 4\n",
    "ability = 'flamethrower'\n",
    "damage = 9999.9999\n",
    "str9 = '%s (pokedex number %s), used %s for %s damage!!!' % (pokemon_name, entry_num, ability, damage)\n",
    "print(str9)"
   ]
  },
  {
   "cell_type": "code",
   "execution_count": 74,
   "metadata": {},
   "outputs": [
    {
     "name": "stdout",
     "output_type": "stream",
     "text": [
      "4 (pokedex number 9999.9999), used Charmander for flamethrower damage!!!\n"
     ]
    }
   ],
   "source": [
    "# Make sure that the variables after % are in the correct order, or else you get in trouble\n",
    "str10 = '%s (pokedex number %s), used %s for %s damage!!!' % (entry_num, damage, pokemon_name, ability)\n",
    "print(str10)"
   ]
  },
  {
   "cell_type": "code",
   "execution_count": 75,
   "metadata": {},
   "outputs": [
    {
     "name": "stdout",
     "output_type": "stream",
     "text": [
      "My favorite integer is 7!\n"
     ]
    }
   ],
   "source": [
    "# Since Python 3, this has become infinitely easier using what is called an f-string. \n",
    "# You begin a string by adding the character f, and then can introduce variables using curly brackets {}\n",
    "number = 7\n",
    "str11 = f'My favorite integer is {number}!'\n",
    "print(str11)"
   ]
  },
  {
   "cell_type": "code",
   "execution_count": 76,
   "metadata": {},
   "outputs": [
    {
     "name": "stdout",
     "output_type": "stream",
     "text": [
      "Charmander (pokedex number 4), used flamethrower for 9999.9999 damage!!!\n"
     ]
    }
   ],
   "source": [
    "# This way you can use the variables in the correct places of the string itself\n",
    "pokemon_name = 'Charmander'\n",
    "entry_num = 4\n",
    "ability = 'flamethrower'\n",
    "damage = 9999.9999\n",
    "str12 = f'{pokemon_name} (pokedex number {entry_num}), used {ability} for {damage} damage!!!'\n",
    "print(str12)"
   ]
  },
  {
   "cell_type": "markdown",
   "metadata": {},
   "source": [
    "## Part 2- Methods\n",
    "\n",
    "We will introduce methods here, but it will only be a cursory overview as their implementation is a bit complicated and has something to do with **classes**. A **function** is an operation that can be applied to data: \n",
    "\n",
    "`function(object)`  \n",
    "\n",
    "A **method** is a function that is tied to a particular object. For example, an object that is a string has particular functions that only make sense for strings. For example, lowercase and uppercase. The syntax of applying of a method is:\n",
    "\n",
    "`object.method`"
   ]
  },
  {
   "cell_type": "code",
   "execution_count": 77,
   "metadata": {},
   "outputs": [
    {
     "name": "stdout",
     "output_type": "stream",
     "text": [
      "You encountered a wild Snorlax! Go, Eevee!\n"
     ]
    }
   ],
   "source": [
    "# Here are some examples using a string\n",
    "str4 = 'You encountered a wild Snorlax! Go, Eevee!'\n",
    "print(str4)"
   ]
  },
  {
   "cell_type": "code",
   "execution_count": 78,
   "metadata": {},
   "outputs": [
    {
     "name": "stdout",
     "output_type": "stream",
     "text": [
      "you encountered a wild snorlax! go, eevee!\n"
     ]
    }
   ],
   "source": [
    "# Method for lowercase\n",
    "print(str4.lower())"
   ]
  },
  {
   "cell_type": "code",
   "execution_count": 79,
   "metadata": {},
   "outputs": [
    {
     "name": "stdout",
     "output_type": "stream",
     "text": [
      "YOU ENCOUNTERED A WILD SNORLAX! GO, EEVEE!\n"
     ]
    }
   ],
   "source": [
    "# And this method for when you want to emphasize your point over the internet\n",
    "print(str4.upper())"
   ]
  },
  {
   "cell_type": "markdown",
   "metadata": {},
   "source": [
    "## Part 3- Vectors\n",
    "\n",
    "Vectors are a group of elements. They are 1-dimensional arrays. In coding, we will often deal with arrays of multiple dimensions. Thinking about arrays of 1 to 3 dimensions is pretty easy, but we are not limited to just 3 dimensions in computer science.  "
   ]
  },
  {
   "cell_type": "code",
   "execution_count": 80,
   "metadata": {},
   "outputs": [
    {
     "name": "stdout",
     "output_type": "stream",
     "text": [
      "[12, 11, 5, 29, 2, 65]\n"
     ]
    }
   ],
   "source": [
    "# Initialize a vector of numbers\n",
    "v1 = [12, 11, 5, 29, 2, 65]\n",
    "print(v1)"
   ]
  },
  {
   "cell_type": "code",
   "execution_count": 81,
   "metadata": {},
   "outputs": [
    {
     "name": "stdout",
     "output_type": "stream",
     "text": [
      "5\n"
     ]
    }
   ],
   "source": [
    "# We can select an element of the vector by using the square brackets []\n",
    "# The number in the brackets is called the index of vector\n",
    "print(v1[2])"
   ]
  },
  {
   "cell_type": "markdown",
   "metadata": {},
   "source": [
    "It may be a bit confusing why v1[2] selected 5 instead of 11. After all, 11 is the 2nd number of the vector. However, indexing in Python (not just Python version 2, but all versions) starts from 0. There are a few practical reasons why this is, but no need to worry about them at this point. "
   ]
  },
  {
   "cell_type": "code",
   "execution_count": 82,
   "metadata": {},
   "outputs": [
    {
     "name": "stdout",
     "output_type": "stream",
     "text": [
      "12\n"
     ]
    }
   ],
   "source": [
    "# Index 0 is actually the first term of the vector\n",
    "print(v1[0])"
   ]
  },
  {
   "cell_type": "code",
   "execution_count": 83,
   "metadata": {},
   "outputs": [
    {
     "name": "stdout",
     "output_type": "stream",
     "text": [
      "65\n"
     ]
    }
   ],
   "source": [
    "# We can also use index -1 to select the last element of the vector\n",
    "print(v1[-1])"
   ]
  },
  {
   "cell_type": "code",
   "execution_count": 84,
   "metadata": {},
   "outputs": [
    {
     "name": "stdout",
     "output_type": "stream",
     "text": [
      "[11, 5, 29]\n"
     ]
    }
   ],
   "source": [
    "# Use : to select a range of indices\n",
    "print(v1[1:4])"
   ]
  },
  {
   "cell_type": "markdown",
   "metadata": {},
   "source": [
    "So now you're probably a bit confused. Hang on, we are selecting indices 1 through 4, so why am I only getting three numbers? Specifically, why is index 4 (=2), not included? When doing a range of indices in a vector or array, the selection stops in the index BEFORE the marked end index. It's a weird thing to remember as a beginner (or a not-so-beginner because I forget all the time), but it actually makes your life easier a bit later on. "
   ]
  },
  {
   "cell_type": "code",
   "execution_count": 85,
   "metadata": {},
   "outputs": [],
   "source": [
    "# Note that this can also work for lists, which are essentially vectors of strings\n",
    "covid19_essentials = ['chocolate', 'netflix', 'pokemon', 'reddit', 'puppy videos']"
   ]
  },
  {
   "cell_type": "code",
   "execution_count": 86,
   "metadata": {},
   "outputs": [
    {
     "name": "stdout",
     "output_type": "stream",
     "text": [
      "reddit\n"
     ]
    }
   ],
   "source": [
    "print(covid19_essentials[3])"
   ]
  },
  {
   "cell_type": "code",
   "execution_count": 87,
   "metadata": {},
   "outputs": [
    {
     "name": "stdout",
     "output_type": "stream",
     "text": [
      "['pokemon', 'reddit', 'puppy videos']\n"
     ]
    }
   ],
   "source": [
    "print(covid19_essentials[2:6])"
   ]
  },
  {
   "cell_type": "markdown",
   "metadata": {},
   "source": [
    "Again, note above that in our list, we don't actually have an index 6, but we can still call it when using a range of indices. It's just a weird thing to get used to."
   ]
  },
  {
   "cell_type": "code",
   "execution_count": 88,
   "metadata": {},
   "outputs": [
    {
     "ename": "IndexError",
     "evalue": "list index out of range",
     "output_type": "error",
     "traceback": [
      "\u001b[1;31m---------------------------------------------------------------------------\u001b[0m",
      "\u001b[1;31mIndexError\u001b[0m                                Traceback (most recent call last)",
      "\u001b[1;32m<ipython-input-88-eccaf78d69ca>\u001b[0m in \u001b[0;36m<module>\u001b[1;34m\u001b[0m\n\u001b[1;32m----> 1\u001b[1;33m \u001b[0mcovid19_essentials\u001b[0m\u001b[1;33m[\u001b[0m\u001b[1;36m6\u001b[0m\u001b[1;33m]\u001b[0m\u001b[1;33m\u001b[0m\u001b[1;33m\u001b[0m\u001b[0m\n\u001b[0m",
      "\u001b[1;31mIndexError\u001b[0m: list index out of range"
     ]
    }
   ],
   "source": [
    "covid19_essentials[6]"
   ]
  },
  {
   "cell_type": "code",
   "execution_count": 89,
   "metadata": {},
   "outputs": [
    {
     "name": "stdout",
     "output_type": "stream",
     "text": [
      "r\n",
      "char\n",
      "mander\n"
     ]
    }
   ],
   "source": [
    "# We can also look at an individual string as a vector of letters. \n",
    "# Almost all the rules apply. \n",
    "best_pokemon = 'charmander'\n",
    "print(best_pokemon[3])\n",
    "print(best_pokemon[0:4])\n",
    "print(best_pokemon[4:10])"
   ]
  },
  {
   "cell_type": "code",
   "execution_count": 90,
   "metadata": {},
   "outputs": [
    {
     "name": "stdout",
     "output_type": "stream",
     "text": [
      "mande\n"
     ]
    }
   ],
   "source": [
    "# Like I said, almost all the rules. This is an exception. \n",
    "print(best_pokemon[4:-1])"
   ]
  },
  {
   "cell_type": "markdown",
   "metadata": {},
   "source": [
    "Why is it like this? Honestly, I have no idea. It just is. This is just something to get used to. "
   ]
  }
 ],
 "metadata": {
  "kernelspec": {
   "display_name": "Python 3",
   "language": "python",
   "name": "python3"
  },
  "language_info": {
   "codemirror_mode": {
    "name": "ipython",
    "version": 3
   },
   "file_extension": ".py",
   "mimetype": "text/x-python",
   "name": "python",
   "nbconvert_exporter": "python",
   "pygments_lexer": "ipython3",
   "version": "3.7.6"
  }
 },
 "nbformat": 4,
 "nbformat_minor": 2
}
