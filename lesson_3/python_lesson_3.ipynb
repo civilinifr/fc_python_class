{
 "cells": [
  {
   "cell_type": "markdown",
   "metadata": {},
   "source": [
    "# Lesson 3 : Strings, methods, and introduction to vectors"
   ]
  },
  {
   "cell_type": "markdown",
   "metadata": {},
   "source": [
    "## Part 1- Strings continued"
   ]
  },
  {
   "cell_type": "code",
   "execution_count": 68,
   "metadata": {},
   "outputs": [
    {
     "ename": "SyntaxError",
     "evalue": "invalid syntax (<ipython-input-68-56c4149683c0>, line 2)",
     "output_type": "error",
     "traceback": [
      "\u001b[1;36m  File \u001b[1;32m\"<ipython-input-68-56c4149683c0>\"\u001b[1;36m, line \u001b[1;32m2\u001b[0m\n\u001b[1;33m    str1 = 'How's everyone doing?'\u001b[0m\n\u001b[1;37m                ^\u001b[0m\n\u001b[1;31mSyntaxError\u001b[0m\u001b[1;31m:\u001b[0m invalid syntax\n"
     ]
    }
   ],
   "source": [
    "# There are some possible problems with special characters in strings\n",
    "str1 = 'How's everyone doing?'\n",
    "print(str1)"
   ]
  },
  {
   "cell_type": "code",
   "execution_count": 69,
   "metadata": {},
   "outputs": [
    {
     "name": "stdout",
     "output_type": "stream",
     "text": [
      "How's everyone doing?\n",
      "How's everyone doing?\n"
     ]
    }
   ],
   "source": [
    "# You can use either the opposite string signifier to use the forward slash\n",
    "str2 = \"How's everyone doing?\"\n",
    "str3 = 'How\\'s everyone doing?'\n",
    "print(str2)\n",
    "print(str3)"
   ]
  },
  {
   "cell_type": "code",
   "execution_count": 70,
   "metadata": {},
   "outputs": [
    {
     "name": "stdout",
     "output_type": "stream",
     "text": [
      "My favorite desser is pie\n"
     ]
    }
   ],
   "source": [
    "# You used to be able to input variables into strings in Python 2 using the % syntax\n",
    "dessert = 'tiramisu'\n",
    "str4 = 'My favorite dessert is %s' % (dessert)\n",
    "print(str4)"
   ]
  },
  {
   "cell_type": "code",
   "execution_count": 71,
   "metadata": {},
   "outputs": [
    {
     "name": "stdout",
     "output_type": "stream",
     "text": [
      "My favorite float is 3.14\n",
      "My favorite integer is 7\n"
     ]
    }
   ],
   "source": [
    "# This would also work for all sorts of input variables\n",
    "floatnum = 3.14\n",
    "intnum = 7\n",
    "str5 = 'My favorite float is %s' % (floatnum)\n",
    "str6 = 'My favorite integer is %s' % (intnum)\n",
    "print(str5)\n",
    "print(str6)"
   ]
  },
  {
   "cell_type": "code",
   "execution_count": 72,
   "metadata": {},
   "outputs": [
    {
     "name": "stdout",
     "output_type": "stream",
     "text": [
      "My favorite float is 3.140000\n",
      "My favorite float is 3.141593\n"
     ]
    }
   ],
   "source": [
    "# The letter after the % sign explains how the string should be formatted depending on the input. \n",
    "# %s means string. However, you can use %f for float if it's a number with more significant figures\n",
    "floatnum1 = 3.14\n",
    "floatnum2 = 3.14159265358979\n",
    "str7 = 'My favorite float is %f' % (floatnum1)\n",
    "str8 = 'My favorite float is %f' % (floatnum2)\n",
    "print(str7)\n",
    "print(str8)"
   ]
  },
  {
   "cell_type": "code",
   "execution_count": 9,
   "metadata": {},
   "outputs": [
    {
     "name": "stdout",
     "output_type": "stream",
     "text": [
      "Calvin (explorer number 7) is a Space Corgi traveling on a mission to Europa at 0.7c!\n"
     ]
    }
   ],
   "source": [
    "# You could also use this to have several variables\n",
    "explorer_name = 'Calvin'\n",
    "explorer_number = 7\n",
    "rank = \"Space Corgi\"\n",
    "planet = 'Europa'\n",
    "speed = 0.7\n",
    "\n",
    "str9 = '%s (explorer number %s) is a %s traveling on a mission to %s at %sc!' % (explorer_name, explorer_number, rank, planet, speed)\n",
    "print(str9)"
   ]
  },
  {
   "cell_type": "code",
   "execution_count": 10,
   "metadata": {},
   "outputs": [
    {
     "name": "stdout",
     "output_type": "stream",
     "text": [
      "Europa (explorer number 0.7) is a 7 traveling on a mission to Calvin at Space Corgic!\n"
     ]
    }
   ],
   "source": [
    "# Make sure that the variables after % are in the correct order, or else you get in trouble\n",
    "str10 = '%s (explorer number %s) is a %s traveling on a mission to %s at %sc!' % (planet, speed, explorer_number, explorer_name, rank)\n",
    "print(str10)"
   ]
  },
  {
   "cell_type": "code",
   "execution_count": 75,
   "metadata": {},
   "outputs": [
    {
     "name": "stdout",
     "output_type": "stream",
     "text": [
      "My favorite integer is 7!\n"
     ]
    }
   ],
   "source": [
    "# Since Python 3, this has become infinitely easier using what is called an f-string. \n",
    "# You begin a string by adding the character f, and then can introduce variables using curly brackets {}\n",
    "number = 7\n",
    "str11 = f'My favorite integer is {number}!'\n",
    "print(str11)"
   ]
  },
  {
   "cell_type": "code",
   "execution_count": 11,
   "metadata": {},
   "outputs": [
    {
     "name": "stdout",
     "output_type": "stream",
     "text": [
      "Calvin (explorer number 7) is a Space Corgi traveling on a mission to Europa at 0.7c!\n"
     ]
    }
   ],
   "source": [
    "# This way you can use the variables in the correct places of the string itself\n",
    "explorer_name = 'Calvin'\n",
    "explorer_number = 7\n",
    "rank = \"Space Corgi\"\n",
    "planet = 'Europa'\n",
    "speed = 0.7\n",
    "\n",
    "str12 = f'{explorer_name} (explorer number {explorer_number}) is a {rank} traveling on a mission to {planet} at {speed}c!'\n",
    "print(str12)"
   ]
  },
  {
   "cell_type": "markdown",
   "metadata": {},
   "source": [
    "## Part 2- Methods\n",
    "\n",
    "We will introduce methods here, but it will only be a cursory overview as their implementation is a bit complicated and has something to do with **classes**. A **function** is an operation that can be applied to data: \n",
    "\n",
    "`function(object)`  \n",
    "\n",
    "A **method** is a function that is tied to a particular object. For example, an object that is a string has particular functions that only make sense for strings. For example, lowercase and uppercase. The syntax of applying of a method is:\n",
    "\n",
    "`object.method`"
   ]
  },
  {
   "cell_type": "code",
   "execution_count": 12,
   "metadata": {},
   "outputs": [
    {
     "name": "stdout",
     "output_type": "stream",
     "text": [
      "Calvin the space corgi is exploring the galaxy! Ad astra Calvin!\n"
     ]
    }
   ],
   "source": [
    "# Here are some examples using a string\n",
    "str4 = 'Calvin the space corgi is exploring the galaxy! Ad astra Calvin!'\n",
    "print(str4)"
   ]
  },
  {
   "cell_type": "code",
   "execution_count": 13,
   "metadata": {},
   "outputs": [
    {
     "name": "stdout",
     "output_type": "stream",
     "text": [
      "calvin the space corgi is exploring the galaxy! ad astra calvin!\n"
     ]
    }
   ],
   "source": [
    "# Method for lowercase\n",
    "print(str4.lower())"
   ]
  },
  {
   "cell_type": "code",
   "execution_count": 14,
   "metadata": {},
   "outputs": [
    {
     "name": "stdout",
     "output_type": "stream",
     "text": [
      "CALVIN THE SPACE CORGI IS EXPLORING THE GALAXY! AD ASTRA CALVIN!\n"
     ]
    }
   ],
   "source": [
    "# And this method for when you want to emphasize your point over the internet\n",
    "print(str4.upper())"
   ]
  },
  {
   "cell_type": "markdown",
   "metadata": {},
   "source": [
    "## Part 3- Vectors\n",
    "\n",
    "Vectors are a group of elements. They are 1-dimensional arrays. In coding, we will often deal with arrays of multiple dimensions. Thinking about arrays of 1 to 3 dimensions is pretty easy, but we are not limited to just 3 dimensions in computer science.  "
   ]
  },
  {
   "cell_type": "code",
   "execution_count": 80,
   "metadata": {},
   "outputs": [
    {
     "name": "stdout",
     "output_type": "stream",
     "text": [
      "[12, 11, 5, 29, 2, 65]\n"
     ]
    }
   ],
   "source": [
    "# Initialize a vector of numbers\n",
    "v1 = [12, 11, 5, 29, 2, 65]\n",
    "print(v1)"
   ]
  },
  {
   "cell_type": "code",
   "execution_count": 81,
   "metadata": {},
   "outputs": [
    {
     "name": "stdout",
     "output_type": "stream",
     "text": [
      "5\n"
     ]
    }
   ],
   "source": [
    "# We can select an element of the vector by using the square brackets []\n",
    "# The number in the brackets is called the index of vector\n",
    "print(v1[2])"
   ]
  },
  {
   "cell_type": "markdown",
   "metadata": {},
   "source": [
    "It may be a bit confusing why v1[2] selected 5 instead of 11. After all, 11 is the 2nd number of the vector. However, indexing in Python (not just Python version 2, but all versions) starts from 0. There are a few practical reasons why this is, but no need to worry about them at this point. "
   ]
  },
  {
   "cell_type": "code",
   "execution_count": 82,
   "metadata": {},
   "outputs": [
    {
     "name": "stdout",
     "output_type": "stream",
     "text": [
      "12\n"
     ]
    }
   ],
   "source": [
    "# Index 0 is actually the first term of the vector\n",
    "print(v1[0])"
   ]
  },
  {
   "cell_type": "code",
   "execution_count": 83,
   "metadata": {},
   "outputs": [
    {
     "name": "stdout",
     "output_type": "stream",
     "text": [
      "65\n"
     ]
    }
   ],
   "source": [
    "# We can also use index -1 to select the last element of the vector\n",
    "print(v1[-1])"
   ]
  },
  {
   "cell_type": "code",
   "execution_count": 84,
   "metadata": {},
   "outputs": [
    {
     "name": "stdout",
     "output_type": "stream",
     "text": [
      "[11, 5, 29]\n"
     ]
    }
   ],
   "source": [
    "# Use : to select a range of indices\n",
    "print(v1[1:4])"
   ]
  },
  {
   "cell_type": "markdown",
   "metadata": {},
   "source": [
    "So now you're probably a bit confused. Hang on, we are selecting indices 1 through 4, so why am I only getting three numbers? Specifically, why is index 4 (=2), not included? When doing a range of indices in a vector or array, the selection stops in the index BEFORE the marked end index. It's a weird thing to remember as a beginner (or a not-so-beginner because I forget all the time), but it actually makes your life easier a bit later on. "
   ]
  },
  {
   "cell_type": "code",
   "execution_count": 4,
   "metadata": {},
   "outputs": [],
   "source": [
    "# Note that this can also work for lists, which are essentially vectors of strings\n",
    "calvin_exploration_checklist = ['fuel', 'spaceship', 'oxygen', 'maps', 'treats']"
   ]
  },
  {
   "cell_type": "code",
   "execution_count": 5,
   "metadata": {},
   "outputs": [
    {
     "name": "stdout",
     "output_type": "stream",
     "text": [
      "maps\n"
     ]
    }
   ],
   "source": [
    "print(calvin_exploration_checklist[3])"
   ]
  },
  {
   "cell_type": "code",
   "execution_count": 6,
   "metadata": {},
   "outputs": [
    {
     "name": "stdout",
     "output_type": "stream",
     "text": [
      "['oxygen', 'maps', 'treats']\n"
     ]
    }
   ],
   "source": [
    "print(calvin_exploration_checklist[2:6])"
   ]
  },
  {
   "cell_type": "markdown",
   "metadata": {},
   "source": [
    "Again, note above that in our list, we don't actually have an index 6, but we can still call it when using a range of indices. It's just a weird thing to get used to."
   ]
  },
  {
   "cell_type": "code",
   "execution_count": 7,
   "metadata": {},
   "outputs": [
    {
     "ename": "IndexError",
     "evalue": "list index out of range",
     "output_type": "error",
     "traceback": [
      "\u001b[1;31m---------------------------------------------------------------------------\u001b[0m",
      "\u001b[1;31mIndexError\u001b[0m                                Traceback (most recent call last)",
      "Cell \u001b[1;32mIn[7], line 1\u001b[0m\n\u001b[1;32m----> 1\u001b[0m \u001b[43mcalvin_exploration_checklist\u001b[49m\u001b[43m[\u001b[49m\u001b[38;5;241;43m6\u001b[39;49m\u001b[43m]\u001b[49m\n",
      "\u001b[1;31mIndexError\u001b[0m: list index out of range"
     ]
    }
   ],
   "source": [
    "calvin_exploration_checklist[6]"
   ]
  },
  {
   "cell_type": "code",
   "execution_count": 16,
   "metadata": {},
   "outputs": [
    {
     "name": "stdout",
     "output_type": "stream",
     "text": [
      "v\n",
      "Calv\n",
      "in\n"
     ]
    }
   ],
   "source": [
    "# We can also look at an individual string as a vector of letters. \n",
    "# Almost all the rules apply. \n",
    "explorer = 'Calvin'\n",
    "print(explorer[3])\n",
    "print(explorer[0:4])\n",
    "print(explorer[4:10])"
   ]
  },
  {
   "cell_type": "code",
   "execution_count": 17,
   "metadata": {},
   "outputs": [
    {
     "name": "stdout",
     "output_type": "stream",
     "text": [
      "i\n"
     ]
    }
   ],
   "source": [
    "# Like I said, almost all the rules. This is an exception. \n",
    "print(explorer[4:-1])"
   ]
  }
 ],
 "metadata": {
  "kernelspec": {
   "display_name": "Python 3 (ipykernel)",
   "language": "python",
   "name": "python3"
  },
  "language_info": {
   "codemirror_mode": {
    "name": "ipython",
    "version": 3
   },
   "file_extension": ".py",
   "mimetype": "text/x-python",
   "name": "python",
   "nbconvert_exporter": "python",
   "pygments_lexer": "ipython3",
   "version": "3.9.16"
  }
 },
 "nbformat": 4,
 "nbformat_minor": 4
}
